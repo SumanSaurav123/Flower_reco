{
 "cells": [
  {
   "cell_type": "code",
   "execution_count": null,
   "metadata": {},
   "outputs": [],
   "source": [
    "import tensorflow as tf\n",
    "import numpy as np\n",
    "import pandas as pd\n",
    "import matplotlib.pyplot as plt\n",
    "from sklearn.model_selection import train_test_split"
   ]
  },
  {
   "cell_type": "code",
   "execution_count": null,
   "metadata": {},
   "outputs": [],
   "source": [
    "x_npz = np.load(\"flowers.npz\")\n",
    "x_data = x_npz['arr_0']\n",
    "y_npz = np.load(\"labels.npz\")\n",
    "y_true = y_npz['arr_0']"
   ]
  },
  {
   "cell_type": "code",
   "execution_count": null,
   "metadata": {
    "scrolled": false
   },
   "outputs": [],
   "source": [
    "array = []\n",
    "for i in range(4323):\n",
    "    c = x_data[i].astype(np.float)\n",
    "    b = c.ravel()\n",
    "    array.append(b)\n",
    "# xpd = pd.DataFrame(data=array)\n",
    "# ypd = pd.DataFrame(data=y_true,columns=['y'])\n",
    "data = pd.concat([(pd.DataFrame(data=array)),pd.DataFrame(data=y_true,columns=['labels'])],axis=1)"
   ]
  },
  {
   "cell_type": "code",
   "execution_count": null,
   "metadata": {},
   "outputs": [],
   "source": [
    "image_data = x_data[:,1:]"
   ]
  },
  {
   "cell_type": "code",
   "execution_count": null,
   "metadata": {},
   "outputs": [],
   "source": [
    "trainLabelCounts = data['labels'].value_counts(sort = False)\n",
    "trainLabelCounts"
   ]
  },
  {
   "cell_type": "code",
   "execution_count": null,
   "metadata": {},
   "outputs": [],
   "source": [
    "def show_img(img):\n",
    "    img = img.reshape(128,128)\n",
    "    plt.imshow(img)\n",
    "\n",
    "show_img(x_data[1])"
   ]
  },
  {
   "cell_type": "code",
   "execution_count": null,
   "metadata": {},
   "outputs": [],
   "source": [
    "data = data.reindex(np.random.permutation(data.index))"
   ]
  },
  {
   "cell_type": "code",
   "execution_count": null,
   "metadata": {},
   "outputs": [],
   "source": [
    "x_train,x_test,y_train,y_test = train_test_split(array, y_true, test_size=0.07, random_state=42)"
   ]
  },
  {
   "cell_type": "code",
   "execution_count": null,
   "metadata": {},
   "outputs": [],
   "source": [
    "x_train = np.asarray(x_train)\n",
    "x_test = np.asarray(x_test)\n",
    "y_train = np.asarray(y_train)\n",
    "y_test = np.asarray(y_test)"
   ]
  },
  {
   "cell_type": "code",
   "execution_count": null,
   "metadata": {},
   "outputs": [],
   "source": [
    "#one hot decoding\n",
    "def one_hot_encode(labels,classes=5):\n",
    "    one_hot = np.zeros([len(labels),6])\n",
    "    for i in range(len(labels)):\n",
    "        one_hot[i,labels[i]] = 1\n",
    "    return one_hot\n",
    "train_labels = one_hot_encode(y_train)\n",
    "test_labels = one_hot_encode(y_test)"
   ]
  },
  {
   "cell_type": "code",
   "execution_count": null,
   "metadata": {},
   "outputs": [],
   "source": [
    "hm_epochs = 10\n",
    "batch_size = 100\n",
    "n_classes = 6\n",
    "n_nodes_h1 = 500\n",
    "n_nodes_h2 = 500\n",
    "n_nodes_h3 = 500"
   ]
  },
  {
   "cell_type": "code",
   "execution_count": null,
   "metadata": {},
   "outputs": [],
   "source": [
    "x = tf.placeholder(tf.float32,[None,16384])\n",
    "y = tf.placeholder(tf.float32)"
   ]
  },
  {
   "cell_type": "code",
   "execution_count": null,
   "metadata": {},
   "outputs": [],
   "source": [
    "def neural_network_modal(data):\n",
    "    \n",
    "    hidden_layer1 = { 'weights':tf.Variable(tf.random_normal([16384,n_nodes_h1])),\n",
    "                      'biases':tf.Variable(tf.random_normal([n_nodes_h1])) }\n",
    "    \n",
    "    hidden_layer2 = { 'weights':tf.Variable(tf.random_normal([n_nodes_h1,n_nodes_h2])),\n",
    "                      'biases':tf.Variable(tf.random_normal([n_nodes_h2])) }\n",
    "    \n",
    "    hidden_layer3 = { 'weights':tf.Variable(tf.random_normal([n_nodes_h2,n_nodes_h3])),\n",
    "                      'biases':tf.Variable(tf.random_normal([n_nodes_h3])) }\n",
    "    \n",
    "    output_layer = {  'weights':tf.Variable(tf.random_normal([n_nodes_h3,n_classes])),\n",
    "                      'biases':tf.Variable(tf.random_normal([n_classes])) }\n",
    "    \n",
    "    l1 = tf.add(tf.matmul(data,hidden_layer1['weights']),hidden_layer1['biases'])\n",
    "    l1 = tf.nn.relu(l1)\n",
    "    \n",
    "    l2 = tf.add(tf.matmul(l1,hidden_layer2['weights']),hidden_layer2['biases'])\n",
    "    l2 = tf.nn.relu(l2)\n",
    "    \n",
    "    l3 = tf.add(tf.matmul(l2,hidden_layer3['weights']),hidden_layer3['biases'])\n",
    "    l3 = tf.nn.relu(l3)\n",
    "    \n",
    "    output = tf.add(tf.matmul(l3,output_layer['weights']),output_layer['biases'])\n",
    "    \n",
    "    return output    "
   ]
  },
  {
   "cell_type": "code",
   "execution_count": null,
   "metadata": {},
   "outputs": [],
   "source": [
    "def training_model(x):\n",
    "    prediction = neural_network_modal(x)\n",
    "    cost = tf.reduce_mean(tf.nn.softmax_cross_entropy_with_logits(logits=prediction,labels=y))\n",
    "    optimizer = tf.train.AdamOptimizer().minimize(cost)\n",
    "    \n",
    "    with tf.Session() as sess:\n",
    "        sess.run(tf.global_variables_initializer())\n",
    "        for epoch in range(20):\n",
    "            epoch_loss = 0\n",
    "            batch_start = 1\n",
    "            batch_end = batch_start + batch_size\n",
    "            for _ in range(22):\n",
    "                _,c = sess.run([optimizer,cost],feed_dict = {x:x_train[batch_start:batch_end],y:train_labels[batch_start:batch_end]})\n",
    "                epoch_loss = epoch_loss +c\n",
    "                batch_start = batch_end+1\n",
    "                batch_end = batch_end + batch_size\n",
    "                \n",
    "            print(\"Epoch\",epoch, \"completed out of \",hm_epochs,\"with loss:\",epoch_loss)\n",
    "        \n",
    "        correct = tf.equal(tf.argmax(prediction,1),tf.argmax(y,1))\n",
    "        \n",
    "        accuracy = tf.reduce_mean(tf.cast(correct,'float'))\n",
    "        \n",
    "        \n",
    "        print('Accuracy:',accuracy.eval({x:x_test, y:test_labels}))      \n",
    "        \n",
    "        \n",
    "        \n",
    "training_model(x)    "
   ]
  }
 ],
 "metadata": {
  "kernelspec": {
   "display_name": "Python 3",
   "language": "python",
   "name": "python3"
  },
  "language_info": {
   "codemirror_mode": {
    "name": "ipython",
    "version": 3
   },
   "file_extension": ".py",
   "mimetype": "text/x-python",
   "name": "python",
   "nbconvert_exporter": "python",
   "pygments_lexer": "ipython3",
   "version": "3.6.4"
  }
 },
 "nbformat": 4,
 "nbformat_minor": 2
}
